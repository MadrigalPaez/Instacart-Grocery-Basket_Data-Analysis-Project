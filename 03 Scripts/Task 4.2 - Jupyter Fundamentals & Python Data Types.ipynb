{
 "cells": [
  {
   "cell_type": "code",
   "execution_count": 2,
   "id": "a127e841-ab0d-4117-a64f-92a90c4d115b",
   "metadata": {},
   "outputs": [],
   "source": [
    "#Import libraries"
   ]
  },
  {
   "cell_type": "code",
   "execution_count": 3,
   "id": "9e9e5089-06f8-4db2-a0c0-397c687afd6f",
   "metadata": {},
   "outputs": [],
   "source": [
    "import pandas as pd\n",
    "import numpy as np\n",
    "import os"
   ]
  },
  {
   "cell_type": "code",
   "execution_count": 5,
   "id": "3a144c71-cf05-4c8c-804f-2751d44e1ee2",
   "metadata": {},
   "outputs": [],
   "source": [
    "#Task 7 - Working with Python data types"
   ]
  },
  {
   "cell_type": "code",
   "execution_count": 6,
   "id": "0f989829-e6e1-44c5-8798-46f3d08b7c4a",
   "metadata": {},
   "outputs": [],
   "source": [
    "#Code 3 different ways of reaching a result of 100 by adding or subtracting numeric variables:"
   ]
  },
  {
   "cell_type": "code",
   "execution_count": 7,
   "id": "b88c57ea-c3f7-41e5-a055-d4125c0f0728",
   "metadata": {},
   "outputs": [],
   "source": [
    "y = 75\n",
    "x = 25"
   ]
  },
  {
   "cell_type": "code",
   "execution_count": 8,
   "id": "38f905cc-f3b8-4f07-9e63-d27bb343014b",
   "metadata": {},
   "outputs": [
    {
     "data": {
      "text/plain": [
       "100"
      ]
     },
     "execution_count": 8,
     "metadata": {},
     "output_type": "execute_result"
    }
   ],
   "source": [
    "x + y"
   ]
  },
  {
   "cell_type": "code",
   "execution_count": 9,
   "id": "02bae3af-0f5f-431a-ad3d-e7458d9a9e9c",
   "metadata": {},
   "outputs": [
    {
     "data": {
      "text/plain": [
       "100"
      ]
     },
     "execution_count": 9,
     "metadata": {},
     "output_type": "execute_result"
    }
   ],
   "source": [
    "y * 2 - (x * 2)"
   ]
  },
  {
   "cell_type": "code",
   "execution_count": 10,
   "id": "b92745bd-353e-4ae6-980d-edc4978d54fd",
   "metadata": {},
   "outputs": [
    {
     "data": {
      "text/plain": [
       "100"
      ]
     },
     "execution_count": 10,
     "metadata": {},
     "output_type": "execute_result"
    }
   ],
   "source": [
    "4 * 25"
   ]
  },
  {
   "cell_type": "code",
   "execution_count": 11,
   "id": "82e8d376-b4f6-4824-9a9f-b0e148322e4d",
   "metadata": {},
   "outputs": [],
   "source": [
    "#Code 2 floating-point variables and divide them by each other:"
   ]
  },
  {
   "cell_type": "code",
   "execution_count": 20,
   "id": "06953090-5001-4a46-8ece-e51c14c82ce9",
   "metadata": {},
   "outputs": [],
   "source": [
    "y = 5.53"
   ]
  },
  {
   "cell_type": "code",
   "execution_count": 21,
   "id": "b341b095-4468-455b-b694-2ad0369d671e",
   "metadata": {},
   "outputs": [],
   "source": [
    "x = 2.94"
   ]
  },
  {
   "cell_type": "code",
   "execution_count": 22,
   "id": "072939e7-aa81-4ff8-81b3-337d26829c4d",
   "metadata": {},
   "outputs": [
    {
     "data": {
      "text/plain": [
       "1.870748299319728"
      ]
     },
     "execution_count": 22,
     "metadata": {},
     "output_type": "execute_result"
    }
   ],
   "source": [
    "y / x"
   ]
  },
  {
   "cell_type": "code",
   "execution_count": 24,
   "id": "576cb5b1-3fd7-4b9d-90f8-2768e75af672",
   "metadata": {},
   "outputs": [
    {
     "data": {
      "text/plain": [
       "float"
      ]
     },
     "execution_count": 24,
     "metadata": {},
     "output_type": "execute_result"
    }
   ],
   "source": [
    "type(y)"
   ]
  },
  {
   "cell_type": "code",
   "execution_count": 25,
   "id": "0235cec1-fe45-400c-99a5-d54c057996ca",
   "metadata": {},
   "outputs": [
    {
     "data": {
      "text/plain": [
       "float"
      ]
     },
     "execution_count": 25,
     "metadata": {},
     "output_type": "execute_result"
    }
   ],
   "source": [
    "type(x)"
   ]
  },
  {
   "cell_type": "code",
   "execution_count": 35,
   "id": "fc1a016b-0d72-499d-9142-564c7e35441a",
   "metadata": {},
   "outputs": [],
   "source": [
    "#Construct a short word made of separate strings (you’ll need to concatenate some strings!:"
   ]
  },
  {
   "cell_type": "code",
   "execution_count": 40,
   "id": "8c9fad05-fb4c-4069-99f4-239762e9f169",
   "metadata": {},
   "outputs": [],
   "source": [
    "a = 'J'\n",
    "b = 'U'\n",
    "c = 'P'\n",
    "d = 'Y'\n",
    "e = 'T'\n",
    "f = 'E'\n",
    "g = 'R'"
   ]
  },
  {
   "cell_type": "code",
   "execution_count": 41,
   "id": "e85980a3-a6ef-48f3-bb90-6251c014fa4f",
   "metadata": {},
   "outputs": [
    {
     "data": {
      "text/plain": [
       "'JUPYTER'"
      ]
     },
     "execution_count": 41,
     "metadata": {},
     "output_type": "execute_result"
    }
   ],
   "source": [
    "a + b + c + d + e + f + g"
   ]
  },
  {
   "cell_type": "code",
   "execution_count": 33,
   "id": "853ec717-093b-4b18-8c1a-aa77add47715",
   "metadata": {},
   "outputs": [],
   "source": [
    "#Construct 2 short sentences made of separate strings"
   ]
  },
  {
   "cell_type": "code",
   "execution_count": 28,
   "id": "895add9a-6aab-4f04-b4fd-cc4062f4e925",
   "metadata": {},
   "outputs": [],
   "source": [
    "x = 'Hello, Mostafa, '"
   ]
  },
  {
   "cell_type": "code",
   "execution_count": 29,
   "id": "9ece8581-0f04-4c7d-adf4-90ee9c3be394",
   "metadata": {},
   "outputs": [],
   "source": [
    "y = 'this is '"
   ]
  },
  {
   "cell_type": "code",
   "execution_count": 30,
   "id": "18e7fee3-4ea3-4ffb-8345-fd16a1fbca57",
   "metadata": {},
   "outputs": [],
   "source": [
    "z = 'the Task 4.2'"
   ]
  },
  {
   "cell_type": "code",
   "execution_count": 42,
   "id": "be314d4a-a835-41ec-a233-1f865ce9b769",
   "metadata": {},
   "outputs": [
    {
     "data": {
      "text/plain": [
       "'Hello, Mostafa, this is the Task 4.2'"
      ]
     },
     "execution_count": 42,
     "metadata": {},
     "output_type": "execute_result"
    }
   ],
   "source": [
    "x + y + z"
   ]
  },
  {
   "cell_type": "code",
   "execution_count": 45,
   "id": "86722a3f-0be7-4ce2-9ea4-d004c408ce0e",
   "metadata": {},
   "outputs": [],
   "source": [
    "#At the bottom of your file, include a command that makes a string appear 100 times:"
   ]
  },
  {
   "cell_type": "code",
   "execution_count": 46,
   "id": "1c236aaf-4662-4c66-8259-2f4d403ead76",
   "metadata": {},
   "outputs": [],
   "source": [
    "n = 'Bonus Task'"
   ]
  },
  {
   "cell_type": "code",
   "execution_count": 47,
   "id": "51394edd-89dd-47a9-ad34-34c2cedbd322",
   "metadata": {},
   "outputs": [
    {
     "data": {
      "text/plain": [
       "'Bonus TaskBonus TaskBonus TaskBonus TaskBonus TaskBonus TaskBonus TaskBonus TaskBonus TaskBonus TaskBonus TaskBonus TaskBonus TaskBonus TaskBonus TaskBonus TaskBonus TaskBonus TaskBonus TaskBonus TaskBonus TaskBonus TaskBonus TaskBonus TaskBonus TaskBonus TaskBonus TaskBonus TaskBonus TaskBonus TaskBonus TaskBonus TaskBonus TaskBonus TaskBonus TaskBonus TaskBonus TaskBonus TaskBonus TaskBonus TaskBonus TaskBonus TaskBonus TaskBonus TaskBonus TaskBonus TaskBonus TaskBonus TaskBonus TaskBonus TaskBonus TaskBonus TaskBonus TaskBonus TaskBonus TaskBonus TaskBonus TaskBonus TaskBonus TaskBonus TaskBonus TaskBonus TaskBonus TaskBonus TaskBonus TaskBonus TaskBonus TaskBonus TaskBonus TaskBonus TaskBonus TaskBonus TaskBonus TaskBonus TaskBonus TaskBonus TaskBonus TaskBonus TaskBonus TaskBonus TaskBonus TaskBonus TaskBonus TaskBonus TaskBonus TaskBonus TaskBonus TaskBonus TaskBonus TaskBonus TaskBonus TaskBonus TaskBonus TaskBonus TaskBonus TaskBonus TaskBonus TaskBonus TaskBonus TaskBonus Task'"
      ]
     },
     "execution_count": 47,
     "metadata": {},
     "output_type": "execute_result"
    }
   ],
   "source": [
    "n * 100"
   ]
  },
  {
   "cell_type": "code",
   "execution_count": null,
   "id": "d0e04a37-6c82-4879-9a18-038fdc83df9c",
   "metadata": {},
   "outputs": [],
   "source": []
  }
 ],
 "metadata": {
  "kernelspec": {
   "display_name": "Python [conda env:base] *",
   "language": "python",
   "name": "conda-base-py"
  },
  "language_info": {
   "codemirror_mode": {
    "name": "ipython",
    "version": 3
   },
   "file_extension": ".py",
   "mimetype": "text/x-python",
   "name": "python",
   "nbconvert_exporter": "python",
   "pygments_lexer": "ipython3",
   "version": "3.13.5"
  }
 },
 "nbformat": 4,
 "nbformat_minor": 5
}
