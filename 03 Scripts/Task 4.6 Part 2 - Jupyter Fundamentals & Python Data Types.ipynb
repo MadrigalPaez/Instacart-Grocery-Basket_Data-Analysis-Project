{
 "cells": [
  {
   "cell_type": "markdown",
   "id": "0a7aef74-d723-4d0a-9950-7df6e47a30d4",
   "metadata": {},
   "source": [
    "# IMPORTING LIBRARIES AND DATAFRAMES"
   ]
  },
  {
   "cell_type": "code",
   "execution_count": 27,
   "id": "5e425823-6bf7-4df1-884f-4f0b4f342d61",
   "metadata": {},
   "outputs": [],
   "source": [
    "#IMPORTING LIBRARIES\n",
    "\n",
    "import pandas as pd\n",
    "import numpy as np\n",
    "import os"
   ]
  },
  {
   "cell_type": "code",
   "execution_count": 28,
   "id": "6ed550eb-ebf4-42e9-9a34-b1a59354dde5",
   "metadata": {},
   "outputs": [],
   "source": [
    "#IMPORTING \"orders_merged_large\" PKL DATAFRAME\n",
    "path = r'/Users/MadrigalPaez/Documents/2 - FORMACIÓN Y TRABAJO/CAREER FOUNDRY/DATA ANALYTICS/2 - Data Immersion/Achievement 4 - Python Fundamentals for Data Analysts/08-2025 Instacart Grocery Basket Analysis'\n",
    "orders_clean_and_prior_combined = pd.read_pickle(os.path.join(path, '02 Data', 'Prepared Data', 'orders_clean_and_prior_combined.pkl'))"
   ]
  },
  {
   "cell_type": "code",
   "execution_count": 29,
   "id": "541c660f-a879-44db-a23b-a0f00a1e149e",
   "metadata": {},
   "outputs": [],
   "source": [
    "#IMPORTING \"products_wrangled\" DATAFRAME\n",
    "products = pd.read_csv(os.path.join(path, '02 Data', 'Prepared Data', 'products_wrangled.csv'))"
   ]
  },
  {
   "cell_type": "markdown",
   "id": "ae365eca-e663-4be9-b343-f4ea2bdbbdab",
   "metadata": {},
   "source": [
    "# CHECK THE SHAPE OF THE IMPORTED DATAFRAMES:"
   ]
  },
  {
   "cell_type": "code",
   "execution_count": 30,
   "id": "8f10b98f-9465-443d-8ae1-bc98819488ff",
   "metadata": {},
   "outputs": [
    {
     "data": {
      "text/plain": [
       "(32434489, 14)"
      ]
     },
     "execution_count": 30,
     "metadata": {},
     "output_type": "execute_result"
    }
   ],
   "source": [
    "orders_clean_and_prior_combined.shape"
   ]
  },
  {
   "cell_type": "code",
   "execution_count": 31,
   "id": "61f7e661-52ae-433b-beb4-7beef75b5a8d",
   "metadata": {},
   "outputs": [
    {
     "data": {
      "text/plain": [
       "(49688, 6)"
      ]
     },
     "execution_count": 31,
     "metadata": {},
     "output_type": "execute_result"
    }
   ],
   "source": [
    "products.shape"
   ]
  },
  {
   "cell_type": "code",
   "execution_count": 32,
   "id": "07e9e84d-0772-4e40-81e4-3d33f0dd0ef1",
   "metadata": {},
   "outputs": [
    {
     "data": {
      "text/html": [
       "<div>\n",
       "<style scoped>\n",
       "    .dataframe tbody tr th:only-of-type {\n",
       "        vertical-align: middle;\n",
       "    }\n",
       "\n",
       "    .dataframe tbody tr th {\n",
       "        vertical-align: top;\n",
       "    }\n",
       "\n",
       "    .dataframe thead th {\n",
       "        text-align: right;\n",
       "    }\n",
       "</style>\n",
       "<table border=\"1\" class=\"dataframe\">\n",
       "  <thead>\n",
       "    <tr style=\"text-align: right;\">\n",
       "      <th></th>\n",
       "      <th>Unnamed: 0.1</th>\n",
       "      <th>Unnamed: 0</th>\n",
       "      <th>order_id</th>\n",
       "      <th>user_id</th>\n",
       "      <th>eval_set</th>\n",
       "      <th>order_number</th>\n",
       "      <th>order_day_of_week</th>\n",
       "      <th>order_hour_of_day</th>\n",
       "      <th>days_since_prior_order</th>\n",
       "      <th>first_order</th>\n",
       "      <th>product_id</th>\n",
       "      <th>add_to_cart_order</th>\n",
       "      <th>reordered</th>\n",
       "      <th>_merge</th>\n",
       "    </tr>\n",
       "  </thead>\n",
       "  <tbody>\n",
       "    <tr>\n",
       "      <th>0</th>\n",
       "      <td>0</td>\n",
       "      <td>0</td>\n",
       "      <td>2539329</td>\n",
       "      <td>1</td>\n",
       "      <td>prior</td>\n",
       "      <td>1</td>\n",
       "      <td>2</td>\n",
       "      <td>8</td>\n",
       "      <td>NaN</td>\n",
       "      <td>1</td>\n",
       "      <td>196</td>\n",
       "      <td>1</td>\n",
       "      <td>0</td>\n",
       "      <td>both</td>\n",
       "    </tr>\n",
       "    <tr>\n",
       "      <th>1</th>\n",
       "      <td>0</td>\n",
       "      <td>0</td>\n",
       "      <td>2539329</td>\n",
       "      <td>1</td>\n",
       "      <td>prior</td>\n",
       "      <td>1</td>\n",
       "      <td>2</td>\n",
       "      <td>8</td>\n",
       "      <td>NaN</td>\n",
       "      <td>1</td>\n",
       "      <td>14084</td>\n",
       "      <td>2</td>\n",
       "      <td>0</td>\n",
       "      <td>both</td>\n",
       "    </tr>\n",
       "    <tr>\n",
       "      <th>2</th>\n",
       "      <td>0</td>\n",
       "      <td>0</td>\n",
       "      <td>2539329</td>\n",
       "      <td>1</td>\n",
       "      <td>prior</td>\n",
       "      <td>1</td>\n",
       "      <td>2</td>\n",
       "      <td>8</td>\n",
       "      <td>NaN</td>\n",
       "      <td>1</td>\n",
       "      <td>12427</td>\n",
       "      <td>3</td>\n",
       "      <td>0</td>\n",
       "      <td>both</td>\n",
       "    </tr>\n",
       "    <tr>\n",
       "      <th>3</th>\n",
       "      <td>0</td>\n",
       "      <td>0</td>\n",
       "      <td>2539329</td>\n",
       "      <td>1</td>\n",
       "      <td>prior</td>\n",
       "      <td>1</td>\n",
       "      <td>2</td>\n",
       "      <td>8</td>\n",
       "      <td>NaN</td>\n",
       "      <td>1</td>\n",
       "      <td>26088</td>\n",
       "      <td>4</td>\n",
       "      <td>0</td>\n",
       "      <td>both</td>\n",
       "    </tr>\n",
       "    <tr>\n",
       "      <th>4</th>\n",
       "      <td>0</td>\n",
       "      <td>0</td>\n",
       "      <td>2539329</td>\n",
       "      <td>1</td>\n",
       "      <td>prior</td>\n",
       "      <td>1</td>\n",
       "      <td>2</td>\n",
       "      <td>8</td>\n",
       "      <td>NaN</td>\n",
       "      <td>1</td>\n",
       "      <td>26405</td>\n",
       "      <td>5</td>\n",
       "      <td>0</td>\n",
       "      <td>both</td>\n",
       "    </tr>\n",
       "  </tbody>\n",
       "</table>\n",
       "</div>"
      ],
      "text/plain": [
       "   Unnamed: 0.1  Unnamed: 0  order_id  user_id eval_set  order_number  \\\n",
       "0             0           0   2539329        1    prior             1   \n",
       "1             0           0   2539329        1    prior             1   \n",
       "2             0           0   2539329        1    prior             1   \n",
       "3             0           0   2539329        1    prior             1   \n",
       "4             0           0   2539329        1    prior             1   \n",
       "\n",
       "   order_day_of_week  order_hour_of_day  days_since_prior_order  first_order  \\\n",
       "0                  2                  8                     NaN            1   \n",
       "1                  2                  8                     NaN            1   \n",
       "2                  2                  8                     NaN            1   \n",
       "3                  2                  8                     NaN            1   \n",
       "4                  2                  8                     NaN            1   \n",
       "\n",
       "   product_id  add_to_cart_order  reordered _merge  \n",
       "0         196                  1          0   both  \n",
       "1       14084                  2          0   both  \n",
       "2       12427                  3          0   both  \n",
       "3       26088                  4          0   both  \n",
       "4       26405                  5          0   both  "
      ]
     },
     "execution_count": 32,
     "metadata": {},
     "output_type": "execute_result"
    }
   ],
   "source": [
    "orders_clean_and_prior_combined.head()"
   ]
  },
  {
   "cell_type": "code",
   "execution_count": 33,
   "id": "eb159f46-27ea-4a48-b5f5-ce5e4ee40c84",
   "metadata": {},
   "outputs": [
    {
     "data": {
      "text/html": [
       "<div>\n",
       "<style scoped>\n",
       "    .dataframe tbody tr th:only-of-type {\n",
       "        vertical-align: middle;\n",
       "    }\n",
       "\n",
       "    .dataframe tbody tr th {\n",
       "        vertical-align: top;\n",
       "    }\n",
       "\n",
       "    .dataframe thead th {\n",
       "        text-align: right;\n",
       "    }\n",
       "</style>\n",
       "<table border=\"1\" class=\"dataframe\">\n",
       "  <thead>\n",
       "    <tr style=\"text-align: right;\">\n",
       "      <th></th>\n",
       "      <th>Unnamed: 0</th>\n",
       "      <th>product_id</th>\n",
       "      <th>product_name</th>\n",
       "      <th>aisle_id</th>\n",
       "      <th>department_id</th>\n",
       "      <th>prices</th>\n",
       "    </tr>\n",
       "  </thead>\n",
       "  <tbody>\n",
       "    <tr>\n",
       "      <th>0</th>\n",
       "      <td>0</td>\n",
       "      <td>1</td>\n",
       "      <td>Chocolate Sandwich Cookies</td>\n",
       "      <td>61</td>\n",
       "      <td>19</td>\n",
       "      <td>5.8</td>\n",
       "    </tr>\n",
       "    <tr>\n",
       "      <th>1</th>\n",
       "      <td>1</td>\n",
       "      <td>2</td>\n",
       "      <td>All-Seasons Salt</td>\n",
       "      <td>104</td>\n",
       "      <td>13</td>\n",
       "      <td>9.3</td>\n",
       "    </tr>\n",
       "    <tr>\n",
       "      <th>2</th>\n",
       "      <td>2</td>\n",
       "      <td>3</td>\n",
       "      <td>Robust Golden Unsweetened Oolong Tea</td>\n",
       "      <td>94</td>\n",
       "      <td>7</td>\n",
       "      <td>4.5</td>\n",
       "    </tr>\n",
       "    <tr>\n",
       "      <th>3</th>\n",
       "      <td>3</td>\n",
       "      <td>4</td>\n",
       "      <td>Smart Ones Classic Favorites Mini Rigatoni Wit...</td>\n",
       "      <td>38</td>\n",
       "      <td>1</td>\n",
       "      <td>10.5</td>\n",
       "    </tr>\n",
       "    <tr>\n",
       "      <th>4</th>\n",
       "      <td>4</td>\n",
       "      <td>5</td>\n",
       "      <td>Green Chile Anytime Sauce</td>\n",
       "      <td>5</td>\n",
       "      <td>13</td>\n",
       "      <td>4.3</td>\n",
       "    </tr>\n",
       "  </tbody>\n",
       "</table>\n",
       "</div>"
      ],
      "text/plain": [
       "   Unnamed: 0  product_id                                       product_name  \\\n",
       "0           0           1                         Chocolate Sandwich Cookies   \n",
       "1           1           2                                   All-Seasons Salt   \n",
       "2           2           3               Robust Golden Unsweetened Oolong Tea   \n",
       "3           3           4  Smart Ones Classic Favorites Mini Rigatoni Wit...   \n",
       "4           4           5                          Green Chile Anytime Sauce   \n",
       "\n",
       "   aisle_id  department_id  prices  \n",
       "0        61             19     5.8  \n",
       "1       104             13     9.3  \n",
       "2        94              7     4.5  \n",
       "3        38              1    10.5  \n",
       "4         5             13     4.3  "
      ]
     },
     "execution_count": 33,
     "metadata": {},
     "output_type": "execute_result"
    }
   ],
   "source": [
    "products.head()"
   ]
  },
  {
   "cell_type": "markdown",
   "id": "b7c3c2fc-2792-4115-90da-afd352acdef3",
   "metadata": {},
   "source": [
    "# DETERMINE A SUITABLE WAY TO COMBINE BOTH DATAFRAMES:"
   ]
  },
  {
   "cell_type": "markdown",
   "id": "ba7e237c-f0d1-46fd-81dd-c7c6c3175f1e",
   "metadata": {},
   "source": [
    "## DATA WRANGLING:"
   ]
  },
  {
   "cell_type": "code",
   "execution_count": 34,
   "id": "e9fe4211-7bbe-409a-9746-aa7e7588aedb",
   "metadata": {},
   "outputs": [
    {
     "data": {
      "text/plain": [
       "Index(['Unnamed: 0.1', 'Unnamed: 0', 'order_id', 'user_id', 'eval_set',\n",
       "       'order_number', 'order_day_of_week', 'order_hour_of_day',\n",
       "       'days_since_prior_order', 'first_order', 'product_id',\n",
       "       'add_to_cart_order', 'reordered', '_merge'],\n",
       "      dtype='object')"
      ]
     },
     "execution_count": 34,
     "metadata": {},
     "output_type": "execute_result"
    }
   ],
   "source": [
    "orders_clean_and_prior_combined.columns"
   ]
  },
  {
   "cell_type": "code",
   "execution_count": 35,
   "id": "a9702c27-f2fd-4c30-9e06-4d89080cec18",
   "metadata": {},
   "outputs": [
    {
     "data": {
      "text/plain": [
       "Index(['Unnamed: 0', 'product_id', 'product_name', 'aisle_id', 'department_id',\n",
       "       'prices'],\n",
       "      dtype='object')"
      ]
     },
     "execution_count": 35,
     "metadata": {},
     "output_type": "execute_result"
    }
   ],
   "source": [
    "products.columns"
   ]
  },
  {
   "cell_type": "markdown",
   "id": "d24100ae-80e4-4c7a-b764-fdb4ffe5d1fd",
   "metadata": {},
   "source": [
    "'Unnamed: 0.1', 'Unnamed: 0', and '_merge' can be deleted from the \"orders_clean_and_prior_combined\" dataframe"
   ]
  },
  {
   "cell_type": "markdown",
   "id": "4cb3e9ee-4575-4f4e-9f9a-743210b925f3",
   "metadata": {},
   "source": [
    "## DELETING UNNECESARY COLUMNS"
   ]
  },
  {
   "cell_type": "code",
   "execution_count": 36,
   "id": "1f5914b2-a791-4d6b-b035-f4724003ac0f",
   "metadata": {},
   "outputs": [],
   "source": [
    "# DELETING 'Unnamed: 0.1', 'Unnamed: 0', and '_merge' COLUMNS FROM \"orders_clean_and_prior_combined\"\n",
    "orders_clean_and_prior_combined = orders_clean_and_prior_combined.drop(['Unnamed: 0.1', 'Unnamed: 0', '_merge'], axis=1)"
   ]
  },
  {
   "cell_type": "code",
   "execution_count": 37,
   "id": "345688c0-0dc8-4d05-8d48-cf8be3f5be2d",
   "metadata": {},
   "outputs": [],
   "source": [
    "# DELETING 'Unnamed: 0' COLUMN FROM \"products\"\n",
    "products = products.drop(['Unnamed: 0'], axis=1)"
   ]
  },
  {
   "cell_type": "code",
   "execution_count": 38,
   "id": "5aaade6a-7b11-41d6-8274-5c15d7102b46",
   "metadata": {},
   "outputs": [
    {
     "data": {
      "text/plain": [
       "Index(['order_id', 'user_id', 'eval_set', 'order_number', 'order_day_of_week',\n",
       "       'order_hour_of_day', 'days_since_prior_order', 'first_order',\n",
       "       'product_id', 'add_to_cart_order', 'reordered'],\n",
       "      dtype='object')"
      ]
     },
     "execution_count": 38,
     "metadata": {},
     "output_type": "execute_result"
    }
   ],
   "source": [
    "orders_clean_and_prior_combined.columns"
   ]
  },
  {
   "cell_type": "code",
   "execution_count": 39,
   "id": "d79525e7-206a-4f94-987a-60a2787e9acc",
   "metadata": {},
   "outputs": [
    {
     "data": {
      "text/plain": [
       "(32434489, 11)"
      ]
     },
     "execution_count": 39,
     "metadata": {},
     "output_type": "execute_result"
    }
   ],
   "source": [
    "orders_clean_and_prior_combined.shape"
   ]
  },
  {
   "cell_type": "code",
   "execution_count": 40,
   "id": "5e8d4418-42e6-4de1-9281-d2b9b91b1114",
   "metadata": {},
   "outputs": [
    {
     "data": {
      "text/plain": [
       "Index(['product_id', 'product_name', 'aisle_id', 'department_id', 'prices'], dtype='object')"
      ]
     },
     "execution_count": 40,
     "metadata": {},
     "output_type": "execute_result"
    }
   ],
   "source": [
    "products.columns"
   ]
  },
  {
   "cell_type": "code",
   "execution_count": 41,
   "id": "6387690d-fd30-4416-9250-930bc704b328",
   "metadata": {},
   "outputs": [
    {
     "data": {
      "text/plain": [
       "(49688, 5)"
      ]
     },
     "execution_count": 41,
     "metadata": {},
     "output_type": "execute_result"
    }
   ],
   "source": [
    "products.shape"
   ]
  },
  {
   "cell_type": "markdown",
   "id": "2a8836d6-4293-49df-91d3-4fe3f958782b",
   "metadata": {},
   "source": [
    "## MERGING \"orders_clean_and_prior_combined\" and \"products\" DATAFRAMES:"
   ]
  },
  {
   "cell_type": "code",
   "execution_count": 42,
   "id": "cd85eb7e-f7de-4b60-9457-0903ce7c077b",
   "metadata": {},
   "outputs": [],
   "source": [
    "orders_and_products_combined = products.merge(orders_clean_and_prior_combined, on = 'product_id', indicator = True)"
   ]
  },
  {
   "cell_type": "markdown",
   "id": "72f4db09-0818-48b5-8c51-3c98e3fad4a9",
   "metadata": {},
   "source": [
    "# CONFIRM THE RESULTS OF THE MERGE USING THE MERGE FLAG:"
   ]
  },
  {
   "cell_type": "code",
   "execution_count": 43,
   "id": "30499a7d-2f26-4e79-b87c-7e476145b56b",
   "metadata": {},
   "outputs": [
    {
     "data": {
      "text/plain": [
       "_merge\n",
       "both          32433030\n",
       "left_only            0\n",
       "right_only           0\n",
       "Name: count, dtype: int64"
      ]
     },
     "execution_count": 43,
     "metadata": {},
     "output_type": "execute_result"
    }
   ],
   "source": [
    "orders_and_products_combined['_merge'].value_counts()"
   ]
  },
  {
   "cell_type": "code",
   "execution_count": 44,
   "id": "21d20bb6-0c24-404b-be18-4d28dbc2cdfb",
   "metadata": {},
   "outputs": [
    {
     "data": {
      "text/plain": [
       "Index(['product_id', 'product_name', 'aisle_id', 'department_id', 'prices',\n",
       "       'order_id', 'user_id', 'eval_set', 'order_number', 'order_day_of_week',\n",
       "       'order_hour_of_day', 'days_since_prior_order', 'first_order',\n",
       "       'add_to_cart_order', 'reordered', '_merge'],\n",
       "      dtype='object')"
      ]
     },
     "execution_count": 44,
     "metadata": {},
     "output_type": "execute_result"
    }
   ],
   "source": [
    "orders_and_products_combined.columns"
   ]
  },
  {
   "cell_type": "code",
   "execution_count": 45,
   "id": "44ad0c90-37ab-48b7-b11c-128b2cfb1e3b",
   "metadata": {},
   "outputs": [
    {
     "data": {
      "text/plain": [
       "(32433030, 16)"
      ]
     },
     "execution_count": 45,
     "metadata": {},
     "output_type": "execute_result"
    }
   ],
   "source": [
    "orders_and_products_combined.shape"
   ]
  },
  {
   "cell_type": "code",
   "execution_count": 46,
   "id": "dc7ed8dd-9297-4ed6-9247-3027d308218e",
   "metadata": {},
   "outputs": [
    {
     "data": {
      "text/html": [
       "<div>\n",
       "<style scoped>\n",
       "    .dataframe tbody tr th:only-of-type {\n",
       "        vertical-align: middle;\n",
       "    }\n",
       "\n",
       "    .dataframe tbody tr th {\n",
       "        vertical-align: top;\n",
       "    }\n",
       "\n",
       "    .dataframe thead th {\n",
       "        text-align: right;\n",
       "    }\n",
       "</style>\n",
       "<table border=\"1\" class=\"dataframe\">\n",
       "  <thead>\n",
       "    <tr style=\"text-align: right;\">\n",
       "      <th></th>\n",
       "      <th>product_id</th>\n",
       "      <th>product_name</th>\n",
       "      <th>aisle_id</th>\n",
       "      <th>department_id</th>\n",
       "      <th>prices</th>\n",
       "      <th>order_id</th>\n",
       "      <th>user_id</th>\n",
       "      <th>eval_set</th>\n",
       "      <th>order_number</th>\n",
       "      <th>order_day_of_week</th>\n",
       "      <th>order_hour_of_day</th>\n",
       "      <th>days_since_prior_order</th>\n",
       "      <th>first_order</th>\n",
       "      <th>add_to_cart_order</th>\n",
       "      <th>reordered</th>\n",
       "      <th>_merge</th>\n",
       "    </tr>\n",
       "  </thead>\n",
       "  <tbody>\n",
       "    <tr>\n",
       "      <th>0</th>\n",
       "      <td>1</td>\n",
       "      <td>Chocolate Sandwich Cookies</td>\n",
       "      <td>61</td>\n",
       "      <td>19</td>\n",
       "      <td>5.8</td>\n",
       "      <td>3139998</td>\n",
       "      <td>138</td>\n",
       "      <td>prior</td>\n",
       "      <td>28</td>\n",
       "      <td>6</td>\n",
       "      <td>11</td>\n",
       "      <td>3.0</td>\n",
       "      <td>0</td>\n",
       "      <td>5</td>\n",
       "      <td>0</td>\n",
       "      <td>both</td>\n",
       "    </tr>\n",
       "    <tr>\n",
       "      <th>1</th>\n",
       "      <td>1</td>\n",
       "      <td>Chocolate Sandwich Cookies</td>\n",
       "      <td>61</td>\n",
       "      <td>19</td>\n",
       "      <td>5.8</td>\n",
       "      <td>1977647</td>\n",
       "      <td>138</td>\n",
       "      <td>prior</td>\n",
       "      <td>30</td>\n",
       "      <td>6</td>\n",
       "      <td>17</td>\n",
       "      <td>20.0</td>\n",
       "      <td>0</td>\n",
       "      <td>1</td>\n",
       "      <td>1</td>\n",
       "      <td>both</td>\n",
       "    </tr>\n",
       "    <tr>\n",
       "      <th>2</th>\n",
       "      <td>1</td>\n",
       "      <td>Chocolate Sandwich Cookies</td>\n",
       "      <td>61</td>\n",
       "      <td>19</td>\n",
       "      <td>5.8</td>\n",
       "      <td>389851</td>\n",
       "      <td>709</td>\n",
       "      <td>prior</td>\n",
       "      <td>2</td>\n",
       "      <td>0</td>\n",
       "      <td>21</td>\n",
       "      <td>6.0</td>\n",
       "      <td>0</td>\n",
       "      <td>20</td>\n",
       "      <td>0</td>\n",
       "      <td>both</td>\n",
       "    </tr>\n",
       "    <tr>\n",
       "      <th>3</th>\n",
       "      <td>1</td>\n",
       "      <td>Chocolate Sandwich Cookies</td>\n",
       "      <td>61</td>\n",
       "      <td>19</td>\n",
       "      <td>5.8</td>\n",
       "      <td>652770</td>\n",
       "      <td>764</td>\n",
       "      <td>prior</td>\n",
       "      <td>1</td>\n",
       "      <td>3</td>\n",
       "      <td>13</td>\n",
       "      <td>NaN</td>\n",
       "      <td>1</td>\n",
       "      <td>10</td>\n",
       "      <td>0</td>\n",
       "      <td>both</td>\n",
       "    </tr>\n",
       "    <tr>\n",
       "      <th>4</th>\n",
       "      <td>1</td>\n",
       "      <td>Chocolate Sandwich Cookies</td>\n",
       "      <td>61</td>\n",
       "      <td>19</td>\n",
       "      <td>5.8</td>\n",
       "      <td>1813452</td>\n",
       "      <td>764</td>\n",
       "      <td>prior</td>\n",
       "      <td>3</td>\n",
       "      <td>4</td>\n",
       "      <td>17</td>\n",
       "      <td>9.0</td>\n",
       "      <td>0</td>\n",
       "      <td>11</td>\n",
       "      <td>1</td>\n",
       "      <td>both</td>\n",
       "    </tr>\n",
       "  </tbody>\n",
       "</table>\n",
       "</div>"
      ],
      "text/plain": [
       "   product_id                product_name  aisle_id  department_id  prices  \\\n",
       "0           1  Chocolate Sandwich Cookies        61             19     5.8   \n",
       "1           1  Chocolate Sandwich Cookies        61             19     5.8   \n",
       "2           1  Chocolate Sandwich Cookies        61             19     5.8   \n",
       "3           1  Chocolate Sandwich Cookies        61             19     5.8   \n",
       "4           1  Chocolate Sandwich Cookies        61             19     5.8   \n",
       "\n",
       "   order_id  user_id eval_set  order_number  order_day_of_week  \\\n",
       "0   3139998      138    prior            28                  6   \n",
       "1   1977647      138    prior            30                  6   \n",
       "2    389851      709    prior             2                  0   \n",
       "3    652770      764    prior             1                  3   \n",
       "4   1813452      764    prior             3                  4   \n",
       "\n",
       "   order_hour_of_day  days_since_prior_order  first_order  add_to_cart_order  \\\n",
       "0                 11                     3.0            0                  5   \n",
       "1                 17                    20.0            0                  1   \n",
       "2                 21                     6.0            0                 20   \n",
       "3                 13                     NaN            1                 10   \n",
       "4                 17                     9.0            0                 11   \n",
       "\n",
       "   reordered _merge  \n",
       "0          0   both  \n",
       "1          1   both  \n",
       "2          0   both  \n",
       "3          0   both  \n",
       "4          1   both  "
      ]
     },
     "execution_count": 46,
     "metadata": {},
     "output_type": "execute_result"
    }
   ],
   "source": [
    "orders_and_products_combined.head()"
   ]
  },
  {
   "cell_type": "code",
   "execution_count": 47,
   "id": "86d7cd44-fa2b-4cef-a528-ae294204b231",
   "metadata": {},
   "outputs": [],
   "source": [
    "#UNMATCHED DATA\n",
    "orders_and_products_combined_unmatched = orders_and_products_combined[orders_and_products_combined[\"_merge\"] != \"both\"]"
   ]
  },
  {
   "cell_type": "code",
   "execution_count": 48,
   "id": "59c203ca-9339-409b-bcc4-28f740eded6a",
   "metadata": {},
   "outputs": [
    {
     "data": {
      "text/plain": [
       "(0, 16)"
      ]
     },
     "execution_count": 48,
     "metadata": {},
     "output_type": "execute_result"
    }
   ],
   "source": [
    "orders_and_products_combined_unmatched.shape"
   ]
  },
  {
   "cell_type": "markdown",
   "id": "480e78c8-f3ae-44e0-b180-38fd09387937",
   "metadata": {},
   "source": [
    "# EXPORTING \"orders_and_products_combined\" AS PKL:"
   ]
  },
  {
   "cell_type": "code",
   "execution_count": 49,
   "id": "0d4d9341-755f-4474-beeb-6c4a24b5865f",
   "metadata": {},
   "outputs": [],
   "source": [
    "orders_and_products_combined.to_pickle(os.path.join(path, '02 Data','Prepared Data', 'orders_and_products_combined.pkl'))"
   ]
  }
 ],
 "metadata": {
  "kernelspec": {
   "display_name": "Python [conda env:base] *",
   "language": "python",
   "name": "conda-base-py"
  },
  "language_info": {
   "codemirror_mode": {
    "name": "ipython",
    "version": 3
   },
   "file_extension": ".py",
   "mimetype": "text/x-python",
   "name": "python",
   "nbconvert_exporter": "python",
   "pygments_lexer": "ipython3",
   "version": "3.13.5"
  }
 },
 "nbformat": 4,
 "nbformat_minor": 5
}
